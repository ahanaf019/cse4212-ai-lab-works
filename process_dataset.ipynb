{
 "cells": [
  {
   "cell_type": "code",
   "execution_count": 1,
   "metadata": {},
   "outputs": [],
   "source": [
    "import cv2\n",
    "import shutil\n",
    "from glob import glob\n",
    "import os"
   ]
  },
  {
   "cell_type": "code",
   "execution_count": 2,
   "metadata": {},
   "outputs": [
    {
     "data": {
      "text/plain": [
       "1059"
      ]
     },
     "execution_count": 2,
     "metadata": {},
     "output_type": "execute_result"
    }
   ],
   "source": [
    "base_dir = 'dataset'\n",
    "\n",
    "files = glob(f'{base_dir}/*/*')\n",
    "len(files)"
   ]
  },
  {
   "cell_type": "code",
   "execution_count": 12,
   "metadata": {},
   "outputs": [],
   "source": [
    "def process_image(path: str, new_size=(32, 32), out_dir=''):\n",
    "    spl = path.split('/')\n",
    "    spl[0] = out_dir\n",
    "    out_name = '/'.join(spl)\n",
    "    out_dir = '/'.join(spl[:-1])\n",
    "    os.makedirs(out_dir, exist_ok=True)\n",
    "    image = cv2.imread(path)\n",
    "    image = cv2.resize(image, new_size)\n",
    "    cv2.imwrite(out_name, image)"
   ]
  },
  {
   "cell_type": "code",
   "execution_count": 11,
   "metadata": {},
   "outputs": [
    {
     "name": "stdout",
     "output_type": "stream",
     "text": [
      "dataset_32/notebook\n"
     ]
    }
   ],
   "source": [
    "for file in files:\n",
    "    process_image(file,new_size=(32, 32), out_dir=f'{base_dir}_32')\n",
    "    process_image(file,new_size=(256, 256), out_dir=f'{base_dir}_256')"
   ]
  },
  {
   "cell_type": "code",
   "execution_count": 7,
   "metadata": {},
   "outputs": [
    {
     "name": "stdout",
     "output_type": "stream",
     "text": [
      "mkdir: cannot create directory ‘dataset_32’: File exists\n"
     ]
    }
   ],
   "source": [
    "!mkdir '{base_dir}'_32\n",
    "!mkdir '{base_dir}'_256"
   ]
  },
  {
   "cell_type": "code",
   "execution_count": null,
   "metadata": {},
   "outputs": [],
   "source": []
  }
 ],
 "metadata": {
  "kernelspec": {
   "display_name": "Tensorflow-2.15",
   "language": "python",
   "name": "tf2.15"
  },
  "language_info": {
   "codemirror_mode": {
    "name": "ipython",
    "version": 3
   },
   "file_extension": ".py",
   "mimetype": "text/x-python",
   "name": "python",
   "nbconvert_exporter": "python",
   "pygments_lexer": "ipython3",
   "version": "3.11.8"
  }
 },
 "nbformat": 4,
 "nbformat_minor": 2
}
