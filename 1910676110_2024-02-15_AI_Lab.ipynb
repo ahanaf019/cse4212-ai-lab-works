{
 "cells": [
  {
   "cell_type": "markdown",
   "metadata": {},
   "source": [
    "# CSE4212: Artificail Intelligence Lab\n",
    "\n",
    "Name: Md. Ahanaf Arif Khan\n",
    "\n",
    "ID: 1910676110\n",
    "\n",
    "Session: 2018-19\n",
    "\n",
    "**Date:** 15 February, 2024"
   ]
  },
  {
   "cell_type": "markdown",
   "metadata": {},
   "source": [
    "# Lab Work:\n",
    "\n",
    "- Load the VGG16 model from Keras with ImageNet weights.\n",
    "- Implement a model similar to the VGG16 model.\n",
    "- Implement the VGG16 model from scratch, then transfer the imagenet weights to the implemented VGG16 model.\n",
    "- Create a model with some layers of the VGG16 model and some custom layers. Load the VGG16 layer weights onto the custom model\n",
    "- Load the MNIST Dataset"
   ]
  },
  {
   "cell_type": "markdown",
   "metadata": {},
   "source": [
    "# Import Dependencies"
   ]
  },
  {
   "cell_type": "code",
   "execution_count": 14,
   "metadata": {},
   "outputs": [],
   "source": [
    "import keras\n",
    "from keras.layers import Dense, MaxPooling2D, Conv2D, Flatten\n",
    "from keras import Input\n",
    "from keras.applications import vgg16\n",
    "from keras.datasets.mnist import load_data\n",
    "import numpy as np\n",
    "import cv2\n",
    "import matplotlib.pyplot as plt\n",
    "from keras.utils import to_categorical"
   ]
  },
  {
   "cell_type": "markdown",
   "metadata": {},
   "source": [
    "# VGG16 Model From Keras"
   ]
  },
  {
   "cell_type": "code",
   "execution_count": 2,
   "metadata": {},
   "outputs": [
    {
     "name": "stdout",
     "output_type": "stream",
     "text": [
      "Model: \"vgg16\"\n",
      "_________________________________________________________________\n",
      " Layer (type)                Output Shape              Param #   \n",
      "=================================================================\n",
      " input_1 (InputLayer)        [(None, 224, 224, 3)]     0         \n",
      "                                                                 \n",
      " block1_conv1 (Conv2D)       (None, 224, 224, 64)      1792      \n",
      "                                                                 \n",
      " block1_conv2 (Conv2D)       (None, 224, 224, 64)      36928     \n",
      "                                                                 \n",
      " block1_pool (MaxPooling2D)  (None, 112, 112, 64)      0         \n",
      "                                                                 \n",
      " block2_conv1 (Conv2D)       (None, 112, 112, 128)     73856     \n",
      "                                                                 \n",
      " block2_conv2 (Conv2D)       (None, 112, 112, 128)     147584    \n",
      "                                                                 \n",
      " block2_pool (MaxPooling2D)  (None, 56, 56, 128)       0         \n",
      "                                                                 \n",
      " block3_conv1 (Conv2D)       (None, 56, 56, 256)       295168    \n",
      "                                                                 \n",
      " block3_conv2 (Conv2D)       (None, 56, 56, 256)       590080    \n",
      "                                                                 \n",
      " block3_conv3 (Conv2D)       (None, 56, 56, 256)       590080    \n",
      "                                                                 \n",
      " block3_pool (MaxPooling2D)  (None, 28, 28, 256)       0         \n",
      "                                                                 \n",
      " block4_conv1 (Conv2D)       (None, 28, 28, 512)       1180160   \n",
      "                                                                 \n",
      " block4_conv2 (Conv2D)       (None, 28, 28, 512)       2359808   \n",
      "                                                                 \n",
      " block4_conv3 (Conv2D)       (None, 28, 28, 512)       2359808   \n",
      "                                                                 \n",
      " block4_pool (MaxPooling2D)  (None, 14, 14, 512)       0         \n",
      "                                                                 \n",
      " block5_conv1 (Conv2D)       (None, 14, 14, 512)       2359808   \n",
      "                                                                 \n",
      " block5_conv2 (Conv2D)       (None, 14, 14, 512)       2359808   \n",
      "                                                                 \n",
      " block5_conv3 (Conv2D)       (None, 14, 14, 512)       2359808   \n",
      "                                                                 \n",
      " block5_pool (MaxPooling2D)  (None, 7, 7, 512)         0         \n",
      "                                                                 \n",
      " flatten (Flatten)           (None, 25088)             0         \n",
      "                                                                 \n",
      " fc1 (Dense)                 (None, 4096)              102764544 \n",
      "                                                                 \n",
      " fc2 (Dense)                 (None, 4096)              16781312  \n",
      "                                                                 \n",
      " predictions (Dense)         (None, 1000)              4097000   \n",
      "                                                                 \n",
      "=================================================================\n",
      "Total params: 138,357,544\n",
      "Trainable params: 138,357,544\n",
      "Non-trainable params: 0\n",
      "_________________________________________________________________\n"
     ]
    }
   ],
   "source": [
    "vgg16_model = vgg16.VGG16()\n",
    "vgg16_model.summary()"
   ]
  },
  {
   "cell_type": "markdown",
   "metadata": {},
   "source": [
    "# VGG16-like Model Implementation"
   ]
  },
  {
   "cell_type": "code",
   "execution_count": 3,
   "metadata": {},
   "outputs": [
    {
     "name": "stdout",
     "output_type": "stream",
     "text": [
      "Model: \"model\"\n",
      "_________________________________________________________________\n",
      " Layer (type)                Output Shape              Param #   \n",
      "=================================================================\n",
      " input_2 (InputLayer)        [(None, 224, 224, 3)]     0         \n",
      "                                                                 \n",
      " conv2d (Conv2D)             (None, 224, 224, 32)      2432      \n",
      "                                                                 \n",
      " conv2d_1 (Conv2D)           (None, 224, 224, 32)      9248      \n",
      "                                                                 \n",
      " max_pooling2d (MaxPooling2D  (None, 112, 112, 32)     0         \n",
      " )                                                               \n",
      "                                                                 \n",
      " conv2d_2 (Conv2D)           (None, 112, 112, 64)      51264     \n",
      "                                                                 \n",
      " conv2d_3 (Conv2D)           (None, 112, 112, 64)      36928     \n",
      "                                                                 \n",
      " max_pooling2d_1 (MaxPooling  (None, 56, 56, 64)       0         \n",
      " 2D)                                                             \n",
      "                                                                 \n",
      " conv2d_4 (Conv2D)           (None, 56, 56, 128)       204928    \n",
      "                                                                 \n",
      " conv2d_5 (Conv2D)           (None, 56, 56, 128)       147584    \n",
      "                                                                 \n",
      " max_pooling2d_2 (MaxPooling  (None, 28, 28, 128)      0         \n",
      " 2D)                                                             \n",
      "                                                                 \n",
      " flatten (Flatten)           (None, 100352)            0         \n",
      "                                                                 \n",
      " dense (Dense)               (None, 128)               12845184  \n",
      "                                                                 \n",
      " dense_1 (Dense)             (None, 128)               16512     \n",
      "                                                                 \n",
      " dense_2 (Dense)             (None, 10)                1290      \n",
      "                                                                 \n",
      "=================================================================\n",
      "Total params: 13,315,370\n",
      "Trainable params: 13,315,370\n",
      "Non-trainable params: 0\n",
      "_________________________________________________________________\n"
     ]
    }
   ],
   "source": [
    "inputs = Input(shape=(224, 224, 3))\n",
    "\n",
    "x = Conv2D(filters=32, kernel_size=(5, 5),\n",
    "            padding='same', activation='relu')(inputs)\n",
    "x = Conv2D(filters=32, kernel_size=(3, 3),\n",
    "            padding='same', activation='relu')(x)\n",
    "x = MaxPooling2D()(x)\n",
    "\n",
    "x = Conv2D(filters=64, kernel_size=(5, 5),\n",
    "            padding='same', activation='relu')(x)\n",
    "x = Conv2D(filters=64, kernel_size=(3, 3),\n",
    "            padding='same', activation='relu')(x)\n",
    "x = MaxPooling2D()(x)\n",
    "\n",
    "x = Conv2D(filters=128, kernel_size=(5, 5),\n",
    "            padding='same', activation='relu')(x)\n",
    "x = Conv2D(filters=128, kernel_size=(3, 3),\n",
    "            padding='same', activation='relu')(x)\n",
    "x = MaxPooling2D()(x)\n",
    "\n",
    "x = Flatten()(x)\n",
    "x = Dense(128, activation='relu')(x)\n",
    "x = Dense(128, activation='relu')(x)\n",
    "outputs = Dense(10, activation='relu')(x)\n",
    "\n",
    "vgg_like = keras.Model(inputs, outputs)\n",
    "vgg_like.summary()"
   ]
  },
  {
   "cell_type": "markdown",
   "metadata": {},
   "source": [
    "# VGG16 Custom Implementation"
   ]
  },
  {
   "cell_type": "code",
   "execution_count": 4,
   "metadata": {},
   "outputs": [
    {
     "name": "stdout",
     "output_type": "stream",
     "text": [
      "Model: \"model_1\"\n",
      "_________________________________________________________________\n",
      " Layer (type)                Output Shape              Param #   \n",
      "=================================================================\n",
      " input_3 (InputLayer)        [(None, 224, 224, 3)]     0         \n",
      "                                                                 \n",
      " conv2d_6 (Conv2D)           (None, 224, 224, 64)      1792      \n",
      "                                                                 \n",
      " conv2d_7 (Conv2D)           (None, 224, 224, 64)      36928     \n",
      "                                                                 \n",
      " max_pooling2d_3 (MaxPooling  (None, 112, 112, 64)     0         \n",
      " 2D)                                                             \n",
      "                                                                 \n",
      " conv2d_8 (Conv2D)           (None, 112, 112, 128)     73856     \n",
      "                                                                 \n",
      " conv2d_9 (Conv2D)           (None, 112, 112, 128)     147584    \n",
      "                                                                 \n",
      " max_pooling2d_4 (MaxPooling  (None, 56, 56, 128)      0         \n",
      " 2D)                                                             \n",
      "                                                                 \n",
      " conv2d_10 (Conv2D)          (None, 56, 56, 256)       295168    \n",
      "                                                                 \n",
      " conv2d_11 (Conv2D)          (None, 56, 56, 256)       590080    \n",
      "                                                                 \n",
      " conv2d_12 (Conv2D)          (None, 56, 56, 256)       590080    \n",
      "                                                                 \n",
      " max_pooling2d_5 (MaxPooling  (None, 28, 28, 256)      0         \n",
      " 2D)                                                             \n",
      "                                                                 \n",
      " conv2d_13 (Conv2D)          (None, 28, 28, 512)       1180160   \n",
      "                                                                 \n",
      " conv2d_14 (Conv2D)          (None, 28, 28, 512)       2359808   \n",
      "                                                                 \n",
      " conv2d_15 (Conv2D)          (None, 28, 28, 512)       2359808   \n",
      "                                                                 \n",
      " max_pooling2d_6 (MaxPooling  (None, 14, 14, 512)      0         \n",
      " 2D)                                                             \n",
      "                                                                 \n",
      " conv2d_16 (Conv2D)          (None, 14, 14, 512)       2359808   \n",
      "                                                                 \n",
      " conv2d_17 (Conv2D)          (None, 14, 14, 512)       2359808   \n",
      "                                                                 \n",
      " conv2d_18 (Conv2D)          (None, 14, 14, 512)       2359808   \n",
      "                                                                 \n",
      " max_pooling2d_7 (MaxPooling  (None, 7, 7, 512)        0         \n",
      " 2D)                                                             \n",
      "                                                                 \n",
      " flatten_1 (Flatten)         (None, 25088)             0         \n",
      "                                                                 \n",
      " dense_3 (Dense)             (None, 4096)              102764544 \n",
      "                                                                 \n",
      " dense_4 (Dense)             (None, 4096)              16781312  \n",
      "                                                                 \n",
      " dense_5 (Dense)             (None, 1000)              4097000   \n",
      "                                                                 \n",
      "=================================================================\n",
      "Total params: 138,357,544\n",
      "Trainable params: 138,357,544\n",
      "Non-trainable params: 0\n",
      "_________________________________________________________________\n"
     ]
    }
   ],
   "source": [
    "inputs = Input(shape=(224,224,3))\n",
    "\n",
    "x = Conv2D(filters=64, kernel_size=(3,3), \n",
    "           padding='same', activation='relu')(inputs)\n",
    "x = Conv2D(filters=64, kernel_size=(3,3),\n",
    "           padding='same', activation='relu')(x)\n",
    "x = MaxPooling2D()(x)\n",
    "\n",
    "\n",
    "x = Conv2D(filters=128, kernel_size=(3, 3),\n",
    "           padding='same', activation='relu')(x)\n",
    "x = Conv2D(filters=128, kernel_size=(3, 3),\n",
    "           padding='same', activation='relu')(x)\n",
    "x = MaxPooling2D()(x)\n",
    "\n",
    "\n",
    "x = Conv2D(filters=256, kernel_size=(3, 3),\n",
    "           padding='same', activation='relu')(x)\n",
    "x = Conv2D(filters=256, kernel_size=(3, 3),\n",
    "           padding='same', activation='relu')(x)\n",
    "x = Conv2D(filters=256, kernel_size=(3, 3),\n",
    "           padding='same', activation='relu')(x)\n",
    "x = MaxPooling2D()(x)\n",
    "\n",
    "\n",
    "x = Conv2D(filters=512, kernel_size=(3, 3),\n",
    "           padding='same', activation='relu')(x)\n",
    "x = Conv2D(filters=512, kernel_size=(3, 3),\n",
    "           padding='same', activation='relu')(x)\n",
    "x = Conv2D(filters=512, kernel_size=(3, 3),\n",
    "           padding='same', activation='relu')(x)\n",
    "x = MaxPooling2D()(x)\n",
    "\n",
    "\n",
    "x = Conv2D(filters=512, kernel_size=(3, 3),\n",
    "           padding='same', activation='relu')(x)\n",
    "x = Conv2D(filters=512, kernel_size=(3, 3),\n",
    "           padding='same', activation='relu')(x)\n",
    "x = Conv2D(filters=512, kernel_size=(3, 3),\n",
    "           padding='same', activation='relu')(x)\n",
    "x = MaxPooling2D()(x)\n",
    "\n",
    "\n",
    "x = Flatten()(x)\n",
    "x = Dense(4096, activation='relu')(x)\n",
    "x = Dense(4096, activation='relu')(x)\n",
    "x = Dense(1000, activation='softmax')(x)\n",
    "\n",
    "custom_vgg16 = keras.Model(inputs, x)\n",
    "custom_vgg16.summary()"
   ]
  },
  {
   "cell_type": "markdown",
   "metadata": {},
   "source": [
    "## Setting weights of Custom VGG16 model to ImageNet weights"
   ]
  },
  {
   "cell_type": "code",
   "execution_count": 5,
   "metadata": {},
   "outputs": [],
   "source": [
    "for i in range(len(custom_vgg16.layers)):\n",
    "    # print(custom_vgg16.layers[i].name)\n",
    "    custom_vgg16.layers[i].set_weights(vgg16_model.layers[i].get_weights())"
   ]
  },
  {
   "cell_type": "markdown",
   "metadata": {},
   "source": [
    "# Custom model with some layers of the VGG16 Model"
   ]
  },
  {
   "cell_type": "code",
   "execution_count": 9,
   "metadata": {},
   "outputs": [
    {
     "name": "stdout",
     "output_type": "stream",
     "text": [
      "Model: \"model_2\"\n",
      "_________________________________________________________________\n",
      " Layer (type)                Output Shape              Param #   \n",
      "=================================================================\n",
      " input_4 (InputLayer)        [(None, 224, 224, 3)]     0         \n",
      "                                                                 \n",
      " conv2d_19 (Conv2D)          (None, 224, 224, 64)      1792      \n",
      "                                                                 \n",
      " conv2d_20 (Conv2D)          (None, 224, 224, 64)      36928     \n",
      "                                                                 \n",
      " max_pooling2d_8 (MaxPooling  (None, 112, 112, 64)     0         \n",
      " 2D)                                                             \n",
      "                                                                 \n",
      " conv2d_21 (Conv2D)          (None, 112, 112, 128)     73856     \n",
      "                                                                 \n",
      " conv2d_22 (Conv2D)          (None, 112, 112, 128)     147584    \n",
      "                                                                 \n",
      " max_pooling2d_9 (MaxPooling  (None, 28, 28, 128)      0         \n",
      " 2D)                                                             \n",
      "                                                                 \n",
      " flatten_2 (Flatten)         (None, 100352)            0         \n",
      "                                                                 \n",
      " dense_6 (Dense)             (None, 128)               12845184  \n",
      "                                                                 \n",
      " dense_7 (Dense)             (None, 128)               16512     \n",
      "                                                                 \n",
      " dense_8 (Dense)             (None, 10)                1290      \n",
      "                                                                 \n",
      "=================================================================\n",
      "Total params: 13,123,146\n",
      "Trainable params: 13,123,146\n",
      "Non-trainable params: 0\n",
      "_________________________________________________________________\n"
     ]
    }
   ],
   "source": [
    "inputs = Input(shape=(224, 224, 3))\n",
    "\n",
    "x = Conv2D(filters=64, kernel_size=(3, 3),\n",
    "           padding='same', activation='relu')(inputs)\n",
    "x = Conv2D(filters=64, kernel_size=(3, 3),\n",
    "           padding='same', activation='relu')(x)\n",
    "x = MaxPooling2D()(x)\n",
    "\n",
    "\n",
    "x = Conv2D(filters=128, kernel_size=(3, 3),\n",
    "           padding='same', activation='relu')(x)\n",
    "x = Conv2D(filters=128, kernel_size=(3, 3),\n",
    "           padding='same', activation='relu')(x)\n",
    "x = MaxPooling2D((4,4))(x)\n",
    "\n",
    "\n",
    "x = Flatten()(x)\n",
    "x = Dense(128, activation='relu')(x)\n",
    "x = Dense(128, activation='relu')(x)\n",
    "x = Dense(10, activation='softmax')(x)\n",
    "\n",
    "partial_vgg16 = keras.Model(inputs, x)\n",
    "partial_vgg16.summary()"
   ]
  },
  {
   "cell_type": "markdown",
   "metadata": {},
   "source": [
    "## Setting weights of Custom model with VGG16 model"
   ]
  },
  {
   "cell_type": "code",
   "execution_count": 10,
   "metadata": {},
   "outputs": [],
   "source": [
    "for i in range(7):\n",
    "    # print(custom_vgg16.layers[i].name)\n",
    "    partial_vgg16.layers[i].set_weights(vgg16_model.layers[i].get_weights())"
   ]
  },
  {
   "cell_type": "markdown",
   "metadata": {},
   "source": [
    "# Load the MNIST Dataset"
   ]
  },
  {
   "cell_type": "code",
   "execution_count": 46,
   "metadata": {},
   "outputs": [
    {
     "name": "stdout",
     "output_type": "stream",
     "text": [
      "trainX shape: (60000, 28, 28), trainY shape: (60000,)\n",
      "trainX dtype: uint8, trainY dtype: uint8\n",
      "trainX range: (0 - 255), trainY range: (0 - 9)\n",
      "testX shape: (10000, 28, 28), testY shape: (10000,)\n",
      "testX dtype: uint8, testY dtype: uint8\n",
      "testX range: (0 - 255), testY range: (0 - 9)\n"
     ]
    }
   ],
   "source": [
    "(trainX, trainY), (testX, testY) = load_data()\n",
    "\n",
    "print(f'trainX shape: {trainX.shape}, trainY shape: {trainY.shape}')\n",
    "print(f'trainX dtype: {trainX.dtype}, trainY dtype: {trainY.dtype}')\n",
    "print(f'trainX range: ({np.min(trainX)} - {np.max(trainX)}), trainY range: ({np.min(trainY)} - {np.max(trainY)})')\n",
    "\n",
    "print(f'testX shape: {testX.shape}, testY shape: {testY.shape}')\n",
    "print(f'testX dtype: {trainX.dtype}, testY dtype: {testY.dtype}')\n",
    "print(f'testX range: ({np.min(testX)} - {np.max(testX)}), testY range: ({np.min(testY)} - {np.max(testY)})')"
   ]
  },
  {
   "cell_type": "markdown",
   "metadata": {},
   "source": [
    "## Plot samples from dataset"
   ]
  },
  {
   "cell_type": "code",
   "execution_count": 47,
   "metadata": {},
   "outputs": [],
   "source": [
    "# Function to plot dataset samples from the \n",
    "# train and test sets\n",
    "def plot_samples(X, Y):\n",
    "    plt.figure(figsize=(10,10))\n",
    "\n",
    "    for i in range(25):\n",
    "        plt.subplot(5,5,i+1)\n",
    "        plt.imshow(trainX[i], cmap='gray')\n",
    "        plt.axis('off')\n",
    "        plt.title(f'{trainY[i]}')\n",
    "    plt.show()"
   ]
  },
  {
   "cell_type": "markdown",
   "metadata": {},
   "source": [
    "Plot from training set"
   ]
  },
  {
   "cell_type": "code",
   "execution_count": 48,
   "metadata": {},
   "outputs": [
    {
     "data": {
      "image/png": "[encoded data removed]",
      "text/plain": [
       "<Figure size 720x720 with 25 Axes>"
      ]
     },
     "metadata": {
      "needs_background": "light"
     },
     "output_type": "display_data"
    }
   ],
   "source": [
    "plot_samples(trainX, trainY)"
   ]
  },
  {
   "cell_type": "markdown",
   "metadata": {},
   "source": [
    "Plot from test set"
   ]
  },
  {
   "cell_type": "code",
   "execution_count": 49,
   "metadata": {},
   "outputs": [
    {
     "data": {
      "image/png": "[encoded data removed]",
      "text/plain": [
       "<Figure size 720x720 with 25 Axes>"
      ]
     },
     "metadata": {
      "needs_background": "light"
     },
     "output_type": "display_data"
    }
   ],
   "source": [
    "plot_samples(testX, testY)"
   ]
  },
  {
   "cell_type": "markdown",
   "metadata": {},
   "source": [
    "## Preprocessing Data"
   ]
  },
  {
   "cell_type": "code",
   "execution_count": 56,
   "metadata": {},
   "outputs": [
    {
     "name": "stdout",
     "output_type": "stream",
     "text": [
      "trainX shape: (60000, 28, 28, 1), trainY shape: (60000,)\n",
      "trainX dtype: uint8, trainY dtype: uint8\n",
      "trainX range: (0 - 255), trainY range: (0 - 9)\n",
      "testX shape: (10000, 28, 28, 1), testY shape: (10000,)\n",
      "testX dtype: uint8, testY dtype: uint8\n",
      "testX range: (0 - 255), testY range: (0 - 9)\n"
     ]
    }
   ],
   "source": [
    "def process_data(X, Y):\n",
    "    # Perform One-Hot Encoding on the Train and Test Labels\n",
    "    Y = to_categorical(Y, num_classes=10)\n",
    "    \n",
    "    # Convert inputs from 3D to 4D\n",
    "    X = np.expand_dims(X, -1)\n",
    "    return (X, Y)\n",
    "\n",
    "\n",
    "trainX, onehot_trainY = process_data(trainX, trainY)\n",
    "testX, onehot_testY = process_data(testX, testY)\n",
    "\n",
    "\n",
    "print(f'trainX shape: {trainX.shape}, trainY shape: {trainY.shape}')\n",
    "print(f'trainX dtype: {trainX.dtype}, trainY dtype: {trainY.dtype}')\n",
    "print(f'trainX range: ({np.min(trainX)} - {np.max(trainX)}), trainY range: ({np.min(trainY)} - {np.max(trainY)})')\n",
    "\n",
    "print(f'testX shape: {testX.shape}, testY shape: {testY.shape}')\n",
    "print(f'testX dtype: {trainX.dtype}, testY dtype: {testY.dtype}')\n",
    "print(f'testX range: ({np.min(testX)} - {np.max(testX)}), testY range: ({np.min(testY)} - {np.max(testY)})')"
   ]
  },
  {
   "cell_type": "markdown",
   "metadata": {},
   "source": [
    "Print onehot encoded labels"
   ]
  },
  {
   "cell_type": "code",
   "execution_count": 51,
   "metadata": {},
   "outputs": [
    {
     "name": "stdout",
     "output_type": "stream",
     "text": [
      "[[0. 0. 0. 0. 0. 0. 0. 1. 0. 0.]\n",
      " [0. 0. 1. 0. 0. 0. 0. 0. 0. 0.]\n",
      " [0. 1. 0. 0. 0. 0. 0. 0. 0. 0.]\n",
      " [1. 0. 0. 0. 0. 0. 0. 0. 0. 0.]\n",
      " [0. 0. 0. 0. 1. 0. 0. 0. 0. 0.]]\n"
     ]
    }
   ],
   "source": [
    "print(onehot_testY[:5])"
   ]
  },
  {
   "cell_type": "code",
   "execution_count": 52,
   "metadata": {},
   "outputs": [
    {
     "name": "stdout",
     "output_type": "stream",
     "text": [
      "[[0. 0. 0. 0. 0. 1. 0. 0. 0. 0.]\n",
      " [1. 0. 0. 0. 0. 0. 0. 0. 0. 0.]\n",
      " [0. 0. 0. 0. 1. 0. 0. 0. 0. 0.]\n",
      " [0. 1. 0. 0. 0. 0. 0. 0. 0. 0.]\n",
      " [0. 0. 0. 0. 0. 0. 0. 0. 0. 1.]]\n"
     ]
    }
   ],
   "source": [
    "print(onehot_trainY[:5])"
   ]
  },
  {
   "cell_type": "markdown",
   "metadata": {},
   "source": [
    "# Train a simple model using the MNIST dataset"
   ]
  },
  {
   "cell_type": "markdown",
   "metadata": {},
   "source": [
    "Define the model and show its summary"
   ]
  },
  {
   "cell_type": "code",
   "execution_count": 63,
   "metadata": {},
   "outputs": [],
   "source": [
    "def build_my_cnn():\n",
    "    inputs = Input(shape=(28,28,1))\n",
    "    x = Conv2D(filters=4, kernel_size=(3,3), padding='same', activation='relu')(inputs)\n",
    "    x = Flatten()(x)\n",
    "    outputs = Dense(10, activation='softmax')(x)\n",
    "    \n",
    "    model = keras.Model(inputs, outputs)\n",
    "    return model"
   ]
  },
  {
   "cell_type": "code",
   "execution_count": 64,
   "metadata": {},
   "outputs": [
    {
     "name": "stdout",
     "output_type": "stream",
     "text": [
      "Model: \"model_4\"\n",
      "_________________________________________________________________\n",
      " Layer (type)                Output Shape              Param #   \n",
      "=================================================================\n",
      " input_7 (InputLayer)        [(None, 28, 28, 1)]       0         \n",
      "                                                                 \n",
      " conv2d_25 (Conv2D)          (None, 28, 28, 4)         40        \n",
      "                                                                 \n",
      " flatten_4 (Flatten)         (None, 3136)              0         \n",
      "                                                                 \n",
      " dense_10 (Dense)            (None, 10)                31370     \n",
      "                                                                 \n",
      "=================================================================\n",
      "Total params: 31,410\n",
      "Trainable params: 31,410\n",
      "Non-trainable params: 0\n",
      "_________________________________________________________________\n"
     ]
    }
   ],
   "source": [
    "model = build_my_cnn()\n",
    "model.summary()"
   ]
  },
  {
   "cell_type": "markdown",
   "metadata": {},
   "source": [
    "Compile and fit the model with the training set"
   ]
  },
  {
   "cell_type": "code",
   "execution_count": 65,
   "metadata": {},
   "outputs": [],
   "source": [
    "model.compile(\n",
    "    optimizer='adam', loss='categorical_crossentropy', metrics='accuracy'\n",
    ")"
   ]
  },
  {
   "cell_type": "code",
   "execution_count": 66,
   "metadata": {},
   "outputs": [
    {
     "name": "stdout",
     "output_type": "stream",
     "text": [
      "Epoch 1/5\n",
      "1688/1688 [==============================] - 15s 8ms/step - loss: 1.0766 - accuracy: 0.8954 - val_loss: 0.2345 - val_accuracy: 0.9410\n",
      "Epoch 2/5\n",
      "1688/1688 [==============================] - 13s 7ms/step - loss: 0.1753 - accuracy: 0.9513 - val_loss: 0.1675 - val_accuracy: 0.9547\n",
      "Epoch 3/5\n",
      "1688/1688 [==============================] - 13s 7ms/step - loss: 0.1237 - accuracy: 0.9613 - val_loss: 0.1606 - val_accuracy: 0.9557\n",
      "Epoch 4/5\n",
      "1688/1688 [==============================] - 14s 9ms/step - loss: 0.1008 - accuracy: 0.9678 - val_loss: 0.1560 - val_accuracy: 0.9572\n",
      "Epoch 5/5\n",
      "1688/1688 [==============================] - 12s 7ms/step - loss: 0.0855 - accuracy: 0.9721 - val_loss: 0.1516 - val_accuracy: 0.9613\n"
     ]
    },
    {
     "data": {
      "text/plain": [
       "<keras.callbacks.History at 0x26ae7f17d00>"
      ]
     },
     "execution_count": 66,
     "metadata": {},
     "output_type": "execute_result"
    }
   ],
   "source": [
    "model.fit(trainX, onehot_trainY, epochs=5, validation_split=0.1)"
   ]
  },
  {
   "cell_type": "markdown",
   "metadata": {},
   "source": [
    "Evaluate the performance of the model with the test set"
   ]
  },
  {
   "cell_type": "code",
   "execution_count": 67,
   "metadata": {},
   "outputs": [
    {
     "name": "stdout",
     "output_type": "stream",
     "text": [
      "313/313 [==============================] - 2s 5ms/step - loss: 0.1590 - accuracy: 0.9565\n"
     ]
    },
    {
     "data": {
      "text/plain": [
       "[0.15896742045879364, 0.9564999938011169]"
      ]
     },
     "execution_count": 67,
     "metadata": {},
     "output_type": "execute_result"
    }
   ],
   "source": [
    "model.evaluate(testX, onehot_testY)"
   ]
  }
 ],
 "metadata": {
  "kernelspec": {
   "display_name": "Python 3",
   "language": "python",
   "name": "python3"
  },
  "language_info": {
   "codemirror_mode": {
    "name": "ipython",
    "version": 3
   },
   "file_extension": ".py",
   "mimetype": "text/x-python",
   "name": "python",
   "nbconvert_exporter": "python",
   "pygments_lexer": "ipython3",
   "version": "3.9.6"
  }
 },
 "nbformat": 4,
 "nbformat_minor": 2
}
